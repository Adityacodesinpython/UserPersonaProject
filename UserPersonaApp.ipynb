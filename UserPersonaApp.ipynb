{
  "nbformat": 4,
  "nbformat_minor": 0,
  "metadata": {
    "colab": {
      "provenance": [],
      "include_colab_link": true
    },
    "kernelspec": {
      "name": "python3",
      "display_name": "Python 3"
    },
    "language_info": {
      "name": "python"
    }
  },
  "cells": [
    {
      "cell_type": "markdown",
      "metadata": {
        "id": "view-in-github",
        "colab_type": "text"
      },
      "source": [
        "<a href=\"https://colab.research.google.com/github/Adityacodesinpython/UserPersonaProject/blob/main/UserPersonaApp.ipynb\" target=\"_parent\"><img src=\"https://colab.research.google.com/assets/colab-badge.svg\" alt=\"Open In Colab\"/></a>"
      ]
    },
    {
      "cell_type": "code",
      "execution_count": 7,
      "metadata": {
        "colab": {
          "base_uri": "https://localhost:8080/"
        },
        "id": "mOI_vC4fKiKM",
        "outputId": "8d988c32-3a7e-4553-8570-d6cf637ffcde"
      },
      "outputs": [
        {
          "output_type": "stream",
          "name": "stdout",
          "text": [
            "Requirement already satisfied: praw in /usr/local/lib/python3.11/dist-packages (7.8.1)\n",
            "Requirement already satisfied: prawcore<3,>=2.4 in /usr/local/lib/python3.11/dist-packages (from praw) (2.4.0)\n",
            "Requirement already satisfied: update_checker>=0.18 in /usr/local/lib/python3.11/dist-packages (from praw) (0.18.0)\n",
            "Requirement already satisfied: websocket-client>=0.54.0 in /usr/local/lib/python3.11/dist-packages (from praw) (1.8.0)\n",
            "Requirement already satisfied: requests<3.0,>=2.6.0 in /usr/local/lib/python3.11/dist-packages (from prawcore<3,>=2.4->praw) (2.32.3)\n",
            "Requirement already satisfied: charset-normalizer<4,>=2 in /usr/local/lib/python3.11/dist-packages (from requests<3.0,>=2.6.0->prawcore<3,>=2.4->praw) (3.4.2)\n",
            "Requirement already satisfied: idna<4,>=2.5 in /usr/local/lib/python3.11/dist-packages (from requests<3.0,>=2.6.0->prawcore<3,>=2.4->praw) (3.10)\n",
            "Requirement already satisfied: urllib3<3,>=1.21.1 in /usr/local/lib/python3.11/dist-packages (from requests<3.0,>=2.6.0->prawcore<3,>=2.4->praw) (2.4.0)\n",
            "Requirement already satisfied: certifi>=2017.4.17 in /usr/local/lib/python3.11/dist-packages (from requests<3.0,>=2.6.0->prawcore<3,>=2.4->praw) (2025.7.9)\n"
          ]
        }
      ],
      "source": [
        "pip install praw\n"
      ]
    },
    {
      "cell_type": "code",
      "source": [
        "import os\n",
        "\n",
        "# Set secrets (you can paste your actual values here securely)\n",
        "os.environ['REDDIT_CLIENT_ID'] = \"Your_Client_Id\"\n",
        "os.environ['REDDIT_CLIENT_SECRET'] = \"Your_Client_Secret\"\n",
        "os.environ['HUGGINGFACE_API_KEY'] = \"Your_Api_Key\""
      ],
      "metadata": {
        "id": "ZX3RuUJHdSCH"
      },
      "execution_count": 8,
      "outputs": []
    },
    {
      "cell_type": "code",
      "source": [
        "import praw\n",
        "from huggingface_hub import InferenceClient\n",
        "\n",
        "# === Reddit API Setup ===\n",
        "reddit = praw.Reddit(\n",
        "    client_id=os.environ['REDDIT_CLIENT_ID'],\n",
        "    client_secret=os.environ['REDDIT_CLIENT_SECRET'],\n",
        "    user_agent=\"UserPersonaScraper\"\n",
        ")\n",
        "\n",
        "client = InferenceClient(\n",
        "    provider=\"auto\",\n",
        "    api_key=os.environ['HUGGINGFACE_API_KEY']\n",
        ")"
      ],
      "metadata": {
        "id": "-FRpPfk_KmkP"
      },
      "execution_count": 9,
      "outputs": []
    },
    {
      "cell_type": "code",
      "source": [
        "# === Extract username from URL ===\n",
        "def extract_username(url):\n",
        "    return url.rstrip('/').split('/')[-1]\n",
        "\n",
        "# === Fetch user activity ===\n",
        "def fetch_user_activity(username, limit=100):\n",
        "    user = reddit.redditor(username)\n",
        "    posts = [f\"Post: {post.title}\\n{post.selftext}\" for post in user.submissions.new(limit=limit)]\n",
        "    comments = [f\"Comment: {comment.body}\" for comment in user.comments.new(limit=limit)]\n",
        "    return posts, comments\n",
        "\n",
        "# === Generate structured user persona ===\n",
        "def generate_advanced_persona(posts, comments):\n",
        "    combined_data = posts + comments\n",
        "    user_text = \"\\n\\n\".join(combined_data)\n",
        "\n",
        "    prompt = f\"\"\"\n",
        "You are a professional persona analyst.\n",
        "\n",
        "Based on the following Reddit user's posts and comments, generate a **detailed user persona** with all the following fields. For each field, include 1–3 supporting quotes (citations) from the user's posts/comments to justify your inference.\n",
        "\n",
        "Use this format:\n",
        "\n",
        "Name: <choose a placeholder name>\n",
        "Age: <e.g., 18–25>\n",
        "Occupation:\n",
        "Status: <e.g., student, working professional, etc.>\n",
        "Location: <likely country or city>\n",
        "Tier: <novice, expert, enthusiast>\n",
        "Archetype: <e.g., The Explorer, The Helper, The Analyst>\n",
        "Personality Type: <e.g., introvert, extrovert, practical, adaptable, etc.>\n",
        "Motivations:\n",
        "Behavior & Habits:\n",
        "Frustrations:\n",
        "Goals and Needs:\n",
        "\n",
        "For each point, add supporting quotes from the text below like:\n",
        "↳ \"This is a direct quote from the user\"\n",
        "\n",
        "Reddit User Data:\n",
        "{user_text}\n",
        "\"\"\"\n",
        "\n",
        "    response = client.chat.completions.create(\n",
        "        model=\"mistralai/Mistral-7B-Instruct-v0.2\",\n",
        "        messages=[{\"role\": \"user\", \"content\": prompt}],\n",
        "        max_tokens=1400,\n",
        "        temperature=0.7\n",
        "    )\n",
        "\n",
        "    return response.choices[0].message[\"content\"]\n",
        "\n",
        "# === Save output to uniquely named file ===\n",
        "def save_to_file(text, username):\n",
        "    filename = f\"persona_u_{username}.txt\"\n",
        "    with open(filename, \"w\", encoding=\"utf-8\") as f:\n",
        "        f.write(f\"👤 User Persona for u/{username}\\n\\n\")\n",
        "        f.write(text)\n",
        "    print(f\"Persona saved to {filename}\")"
      ],
      "metadata": {
        "id": "7iBg5EMraXFO"
      },
      "execution_count": 10,
      "outputs": []
    },
    {
      "cell_type": "code",
      "source": [
        "# === Main Entry Point ===\n",
        "if __name__ == \"__main__\":\n",
        "    reddit_url = input(\"🔗 Enter Reddit user profile URL: \").strip()\n",
        "    username = extract_username(reddit_url)\n",
        "\n",
        "    print(f\"📥 Fetching posts and comments for u/{username}...\")\n",
        "    posts, comments = fetch_user_activity(username)\n",
        "\n",
        "    if not posts and not comments:\n",
        "        print(\"⚠️ No user activity found.\")\n",
        "    else:\n",
        "        print(\"🤖 Generating full user persona with citations...\")\n",
        "        persona = generate_advanced_persona(posts, comments)\n",
        "        save_to_file(persona, username)"
      ],
      "metadata": {
        "colab": {
          "base_uri": "https://localhost:8080/"
        },
        "id": "00uWNHVdaa8V",
        "outputId": "93cc97f8-a07f-4213-e8aa-5bad442f922a"
      },
      "execution_count": 11,
      "outputs": [
        {
          "name": "stdout",
          "output_type": "stream",
          "text": [
            "🔗 Enter Reddit user profile URL: https://www.reddit.com/user/Hungry-Move-6603/ \n"
          ]
        },
        {
          "output_type": "stream",
          "name": "stderr",
          "text": [
            "WARNING:praw:It appears that you are using PRAW in an asynchronous environment.\n",
            "It is strongly recommended to use Async PRAW: https://asyncpraw.readthedocs.io.\n",
            "See https://praw.readthedocs.io/en/latest/getting_started/multiple_instances.html#discord-bots-and-asynchronous-environments for more info.\n",
            "\n"
          ]
        },
        {
          "output_type": "stream",
          "name": "stdout",
          "text": [
            "📥 Fetching posts and comments for u/Hungry-Move-6603...\n"
          ]
        },
        {
          "output_type": "stream",
          "name": "stderr",
          "text": [
            "WARNING:praw:It appears that you are using PRAW in an asynchronous environment.\n",
            "It is strongly recommended to use Async PRAW: https://asyncpraw.readthedocs.io.\n",
            "See https://praw.readthedocs.io/en/latest/getting_started/multiple_instances.html#discord-bots-and-asynchronous-environments for more info.\n",
            "\n"
          ]
        },
        {
          "output_type": "stream",
          "name": "stdout",
          "text": [
            "🤖 Generating full user persona with citations...\n",
            "Persona saved to persona_u_Hungry-Move-6603.txt\n"
          ]
        }
      ]
    }
  ]
}